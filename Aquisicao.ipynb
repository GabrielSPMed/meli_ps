{
 "cells": [
  {
   "cell_type": "code",
   "execution_count": 61,
   "id": "9c0836aa",
   "metadata": {},
   "outputs": [],
   "source": [
    "import json\n",
    "import requests\n",
    "from time import sleep"
   ]
  },
  {
   "cell_type": "code",
   "execution_count": 40,
   "id": "d0e7ba9f",
   "metadata": {},
   "outputs": [],
   "source": [
    "url = \"https://api.mercadolibre.com/sites/MLB/search?q=chromecast&limit=50\"\n",
    "headers = {\"Authorization\": \"Bearer\"}\n",
    "\n",
    "response = requests.get(url, headers=headers)\n",
    "\n",
    "response = response.json()"
   ]
  },
  {
   "cell_type": "code",
   "execution_count": 41,
   "id": "df7420ed",
   "metadata": {},
   "outputs": [
    {
     "data": {
      "text/plain": [
       "{'total': 494, 'primary_results': 494, 'offset': 0, 'limit': 50}"
      ]
     },
     "execution_count": 41,
     "metadata": {},
     "output_type": "execute_result"
    }
   ],
   "source": [
    "response['paging']"
   ]
  },
  {
   "cell_type": "markdown",
   "id": "4a342d5b",
   "metadata": {},
   "source": [
    "This means that there are only 494 results for chromecast, and I need 500"
   ]
  },
  {
   "cell_type": "code",
   "execution_count": 55,
   "id": "b36f52e6",
   "metadata": {},
   "outputs": [],
   "source": [
    "url = \"https://api.mercadolibre.com/sites/MLB/search?q=switch&limit=50&offset=0\"\n",
    "headers = {\"Authorization\": \"Bearer\"}\n",
    "\n",
    "response = requests.get(url, headers=headers)\n",
    "\n",
    "response = response.json()"
   ]
  },
  {
   "cell_type": "code",
   "execution_count": 56,
   "id": "c9cefd2a",
   "metadata": {},
   "outputs": [
    {
     "data": {
      "text/plain": [
       "{'total': 110780, 'primary_results': 1000, 'offset': 0, 'limit': 50}"
      ]
     },
     "execution_count": 56,
     "metadata": {},
     "output_type": "execute_result"
    }
   ],
   "source": [
    "response['paging']"
   ]
  },
  {
   "cell_type": "markdown",
   "id": "948f6fe8",
   "metadata": {},
   "source": [
    "Great"
   ]
  },
  {
   "cell_type": "code",
   "execution_count": 62,
   "id": "a889ab79",
   "metadata": {},
   "outputs": [],
   "source": [
    "for offset in range(10):\n",
    "    url = f\"https://api.mercadolibre.com/sites/MLB/search?q=switch&limit=50&offset={offset*50}\"\n",
    "    response = requests.get(url, headers=headers)\n",
    "    if response.status_code == 200:\n",
    "        with open(f\"response_data_{offset}.json\", \"w\") as json_file:\n",
    "            json.dump(response.json(), json_file)\n",
    "        sleep(10)\n",
    "    else:\n",
    "        print(f\"Error {response.status_code}, at offset {offset}, {response}\")\n",
    "        break"
   ]
  },
  {
   "cell_type": "markdown",
   "id": "83337575",
   "metadata": {},
   "source": [
    "No codigo acima estou verificando erros ao verificar o status code, estou cuidando da paginacao ao incorporar o offset e estou limitando o numero de chamadas usando sleep."
   ]
  },
  {
   "cell_type": "code",
   "execution_count": null,
   "id": "15075baf",
   "metadata": {},
   "outputs": [],
   "source": []
  }
 ],
 "metadata": {
  "kernelspec": {
   "display_name": "Python 3 (ipykernel)",
   "language": "python",
   "name": "python3"
  },
  "language_info": {
   "codemirror_mode": {
    "name": "ipython",
    "version": 3
   },
   "file_extension": ".py",
   "mimetype": "text/x-python",
   "name": "python",
   "nbconvert_exporter": "python",
   "pygments_lexer": "ipython3",
   "version": "3.9.7"
  }
 },
 "nbformat": 4,
 "nbformat_minor": 5
}
